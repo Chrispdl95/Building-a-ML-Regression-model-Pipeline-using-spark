{
  "cells": [
    {
      "cell_type": "markdown",
      "metadata": {
        "id": "GHOIQGRSKTVO"
      },
      "source": [
        "## Build an ML Pipeline for Airfoil noise prediction\n"
      ]
    },
    {
      "cell_type": "markdown",
      "source": [
        "#### This project serves as the final assignment for the Coursera course \"ML with Spark\" offered by IBM."
      ],
      "metadata": {
        "id": "k620cHDKMHFO"
      }
    },
    {
      "cell_type": "markdown",
      "metadata": {
        "id": "yhJIvaJmKTVP"
      },
      "source": [
        "## Scenario\n"
      ]
    },
    {
      "cell_type": "markdown",
      "metadata": {
        "id": "ZkVKr0t8KTVP"
      },
      "source": [
        "You are a data engineer at an aeronautics consulting company. Your company prides itself in being able to efficiently design airfoils for use in planes and sports cars. Data scientists in your office need to work with different algorithms and data in different formats. While they are good at Machine Learning, they count on you to be able to do ETL jobs and build ML pipelines. In this project you will use the modified version of the NASA Airfoil Self Noise dataset. You will clean this dataset, by dropping the duplicate rows, and removing the rows with null values. You will create an ML pipe line to create a model that will predict the SoundLevel based on all the other columns. You will evaluate the model and towards the end you will persist the model.\n",
        "\n"
      ]
    },
    {
      "cell_type": "markdown",
      "metadata": {
        "id": "S0RyNCLhKTVP"
      },
      "source": [
        "## Objectives\n",
        "\n",
        "In this 4 part assignment you will:\n",
        "\n",
        "- Part 1 Perform ETL activity\n",
        "  - Load a csv dataset\n",
        "  - Remove duplicates if any\n",
        "  - Drop rows with null values if any\n",
        "  - Make transformations\n",
        "  - Store the cleaned data in parquet format\n",
        "- Part 2 Create a  Machine Learning Pipeline\n",
        "  - Create a machine learning pipeline for prediction\n",
        "- Part 3 Evaluate the Model\n",
        "  - Evaluate the model using relevant metrics\n",
        "- Part 4 Persist the Model\n",
        "  - Save the model for future production use\n",
        "  - Load and verify the stored model\n"
      ]
    },
    {
      "cell_type": "markdown",
      "metadata": {
        "id": "HadL9bOhKTVP"
      },
      "source": [
        "## Datasets\n",
        "\n",
        "In this lab you will be using dataset(s):\n",
        "\n",
        " - The original dataset can be found here NASA airfoil self noise dataset. https://archive.ics.uci.edu/dataset/291/airfoil+self+noise\n",
        "\n",
        " - This dataset is licensed under a Creative Commons Attribution 4.0 International (CC BY 4.0) license.\n"
      ]
    },
    {
      "cell_type": "markdown",
      "metadata": {
        "id": "bHJeOmW_KTVP"
      },
      "source": [
        "Diagram of an airfoil. - For informational purpose\n"
      ]
    },
    {
      "cell_type": "markdown",
      "metadata": {
        "id": "gaK2e65VKTVQ"
      },
      "source": [
        "![Airfoil with flow](https://cf-courses-data.s3.us.cloud-object-storage.appdomain.cloud/IBMSkillsNetwork-BD0231EN-Coursera/images/Airfoil_with_flow.png)\n"
      ]
    },
    {
      "cell_type": "markdown",
      "metadata": {
        "id": "QnjjbYWZKTVQ"
      },
      "source": [
        "Diagram showing the Angle of attack. - For informational purpose\n"
      ]
    },
    {
      "cell_type": "markdown",
      "metadata": {
        "id": "3jGu50oWKTVQ"
      },
      "source": [
        "![Airfoil angle of attack](https://cf-courses-data.s3.us.cloud-object-storage.appdomain.cloud/IBMSkillsNetwork-BD0231EN-Coursera/images/Airfoil_angle_of_attack.jpg)\n"
      ]
    },
    {
      "cell_type": "markdown",
      "metadata": {
        "id": "OuwVmekoKTVQ"
      },
      "source": [
        "## Setup\n"
      ]
    },
    {
      "cell_type": "markdown",
      "metadata": {
        "id": "sE3m50FLKTVR"
      },
      "source": [
        "For this lab, we will be using the following libraries:\n",
        "\n",
        "*   [`PySpark`](https://spark.apache.org/docs/latest/api/python/index.html?utm_medium=Exinfluencer&utm_source=Exinfluencer&utm_content=000026UJ&utm_term=10006555&utm_id=NA-SkillsNetwork-Channel-SkillsNetworkCoursesIBMSkillsNetworkBD0231ENCoursera2789-2023-01-01) for connecting to the Spark Cluster\n"
      ]
    },
    {
      "cell_type": "markdown",
      "metadata": {
        "id": "nojl9pULKTVR"
      },
      "source": [
        "### Installing Required Libraries\n",
        " you need libraries like pyspark and findspark to\n",
        " connect to this cluster.\n"
      ]
    },
    {
      "cell_type": "code",
      "execution_count": null,
      "metadata": {
        "tags": [],
        "id": "pIp-zaVhKTVS"
      },
      "outputs": [],
      "source": [
        "!pip install pyspark==3.1.2 -q\n",
        "!pip install findspark -q"
      ]
    },
    {
      "cell_type": "markdown",
      "metadata": {
        "id": "MrvZ4zNWKTVT"
      },
      "source": [
        "### Importing Required Libraries\n",
        "\n",
        "_We recommend you import all required libraries in one place (here):_\n"
      ]
    },
    {
      "cell_type": "code",
      "execution_count": null,
      "metadata": {
        "tags": [],
        "id": "oHBjKdBoKTVT"
      },
      "outputs": [],
      "source": [
        "# You can also use this section to suppress warnings generated by your code:\n",
        "def warn(*args, **kwargs):\n",
        "    pass\n",
        "import warnings\n",
        "warnings.warn = warn\n",
        "warnings.filterwarnings('ignore')\n",
        "\n",
        "# FindSpark simplifies the process of using Apache Spark with Python\n",
        "\n",
        "import findspark\n",
        "findspark.init()"
      ]
    },
    {
      "cell_type": "markdown",
      "metadata": {
        "id": "VMGfgH2JKTVT"
      },
      "source": [
        "## Part 1 - Perform ETL activity\n"
      ]
    },
    {
      "cell_type": "markdown",
      "metadata": {
        "id": "NsLdoqRSKTVT"
      },
      "source": [
        "### Task 1 - Import required libraries\n"
      ]
    },
    {
      "cell_type": "code",
      "execution_count": null,
      "metadata": {
        "tags": [],
        "id": "uM6hxb7hKTVT"
      },
      "outputs": [],
      "source": [
        "\n",
        "#your code goes here\n",
        "from pyspark.sql import SparkSession\n",
        "from pyspark.ml.feature import VectorAssembler\n",
        "from pyspark.ml.regression import LinearRegression\n",
        "from pyspark.ml.evaluation  import RegressionEvaluator\n",
        "\n"
      ]
    },
    {
      "cell_type": "code",
      "execution_count": null,
      "metadata": {
        "tags": [],
        "id": "XJVPPggCKTVT"
      },
      "outputs": [],
      "source": [
        "from pyspark.ml.feature import StandardScaler"
      ]
    },
    {
      "cell_type": "markdown",
      "metadata": {
        "id": "_9OkeYkIKTVU"
      },
      "source": [
        "### Task 2 - Create a spark session\n"
      ]
    },
    {
      "cell_type": "code",
      "execution_count": null,
      "metadata": {
        "tags": [],
        "id": "FGSsmbXeKTVU",
        "outputId": "cfd48947-40d0-494b-f268-22bd2b1b5e31"
      },
      "outputs": [
        {
          "name": "stderr",
          "output_type": "stream",
          "text": [
            "23/12/21 17:48:23 WARN util.NativeCodeLoader: Unable to load native-hadoop library for your platform... using builtin-java classes where applicable\n",
            "Setting default log level to \"WARN\".\n",
            "To adjust logging level use sc.setLogLevel(newLevel). For SparkR, use setLogLevel(newLevel).\n"
          ]
        }
      ],
      "source": [
        "#Create a SparkSession\n",
        "\n",
        "spark = SparkSession.builder.appName('Final_project').getOrCreate()"
      ]
    },
    {
      "cell_type": "markdown",
      "metadata": {
        "id": "FY_afX1pKTVU"
      },
      "source": [
        "### Task 3 - Load the csv file into a dataframe\n"
      ]
    },
    {
      "cell_type": "markdown",
      "metadata": {
        "id": "6pIR-x3nKTVU"
      },
      "source": [
        "Download the data file.\n",
        "\n",
        "NOTE : Please ensure you use the dataset below and not the original dataset mentioned above.\n"
      ]
    },
    {
      "cell_type": "code",
      "execution_count": null,
      "metadata": {
        "tags": [],
        "id": "i0ZMzAnfKTVU",
        "outputId": "44854719-30d8-4f39-8478-9100fcbaf0e8"
      },
      "outputs": [
        {
          "name": "stdout",
          "output_type": "stream",
          "text": [
            "--2023-12-21 17:48:33--  https://cf-courses-data.s3.us.cloud-object-storage.appdomain.cloud/IBMSkillsNetwork-BD0231EN-Coursera/datasets/NASA_airfoil_noise_raw.csv\n",
            "Resolving cf-courses-data.s3.us.cloud-object-storage.appdomain.cloud (cf-courses-data.s3.us.cloud-object-storage.appdomain.cloud)... 169.63.118.104, 169.63.118.104\n",
            "Connecting to cf-courses-data.s3.us.cloud-object-storage.appdomain.cloud (cf-courses-data.s3.us.cloud-object-storage.appdomain.cloud)|169.63.118.104|:443... connected.\n",
            "HTTP request sent, awaiting response... 200 OK\n",
            "Length: 60682 (59K) [text/csv]\n",
            "Saving to: ‘NASA_airfoil_noise_raw.csv.1’\n",
            "\n",
            "NASA_airfoil_noise_ 100%[===================>]  59.26K  --.-KB/s    in 0.001s  \n",
            "\n",
            "2023-12-21 17:48:33 (42.8 MB/s) - ‘NASA_airfoil_noise_raw.csv.1’ saved [60682/60682]\n",
            "\n"
          ]
        }
      ],
      "source": [
        "!wget https://cf-courses-data.s3.us.cloud-object-storage.appdomain.cloud/IBMSkillsNetwork-BD0231EN-Coursera/datasets/NASA_airfoil_noise_raw.csv\n"
      ]
    },
    {
      "cell_type": "markdown",
      "metadata": {
        "id": "iTnWqSH7KTVU"
      },
      "source": [
        "Load the dataset into the spark dataframe\n"
      ]
    },
    {
      "cell_type": "code",
      "execution_count": null,
      "metadata": {
        "tags": [],
        "id": "JSSBNNdnKTVV"
      },
      "outputs": [],
      "source": [
        "# Load the dataset that you have downloaded in the previous task\n",
        "\n",
        "df = spark.read.csv('NASA_airfoil_noise_raw.csv', header= True, inferSchema=True)"
      ]
    },
    {
      "cell_type": "markdown",
      "metadata": {
        "id": "pHLKrh8TKTVV"
      },
      "source": [
        "### Task 4 - Print top 5 rows of the dataset\n"
      ]
    },
    {
      "cell_type": "code",
      "execution_count": null,
      "metadata": {
        "tags": [],
        "id": "SorW9LcTKTVV",
        "outputId": "824dd3a6-535e-44b9-b587-9b1a3e90dbdf"
      },
      "outputs": [
        {
          "name": "stdout",
          "output_type": "stream",
          "text": [
            "+---------+-------------+-----------+------------------+-----------------------+----------+\n",
            "|Frequency|AngleOfAttack|ChordLength|FreeStreamVelocity|SuctionSideDisplacement|SoundLevel|\n",
            "+---------+-------------+-----------+------------------+-----------------------+----------+\n",
            "|      800|          0.0|     0.3048|              71.3|             0.00266337|   126.201|\n",
            "|     1000|          0.0|     0.3048|              71.3|             0.00266337|   125.201|\n",
            "|     1250|          0.0|     0.3048|              71.3|             0.00266337|   125.951|\n",
            "|     1600|          0.0|     0.3048|              71.3|             0.00266337|   127.591|\n",
            "|     2000|          0.0|     0.3048|              71.3|             0.00266337|   127.461|\n",
            "+---------+-------------+-----------+------------------+-----------------------+----------+\n",
            "only showing top 5 rows\n",
            "\n",
            "root\n",
            " |-- Frequency: integer (nullable = true)\n",
            " |-- AngleOfAttack: double (nullable = true)\n",
            " |-- ChordLength: double (nullable = true)\n",
            " |-- FreeStreamVelocity: double (nullable = true)\n",
            " |-- SuctionSideDisplacement: double (nullable = true)\n",
            " |-- SoundLevel: double (nullable = true)\n",
            "\n"
          ]
        }
      ],
      "source": [
        "#your code goes here\n",
        "df.show(5)\n",
        "df.printSchema()"
      ]
    },
    {
      "cell_type": "markdown",
      "metadata": {
        "id": "O-i-LWZPKTVV"
      },
      "source": [
        "### Task 6 - Print the total number of rows in the dataset\n"
      ]
    },
    {
      "cell_type": "code",
      "execution_count": null,
      "metadata": {
        "tags": [],
        "id": "eFiYBhPkKTVV",
        "outputId": "64c6d6cc-ae31-4b49-8612-f8528dd3fe64"
      },
      "outputs": [
        {
          "name": "stdout",
          "output_type": "stream",
          "text": [
            "1522\n"
          ]
        }
      ],
      "source": [
        "#your code goes here\n",
        "rowcount1 = df.count()\n",
        "print(rowcount1)"
      ]
    },
    {
      "cell_type": "markdown",
      "metadata": {
        "id": "GRLMBQGwKTVV"
      },
      "source": [
        "### Task 7 - Drop all the duplicate rows from the dataset\n"
      ]
    },
    {
      "cell_type": "code",
      "execution_count": null,
      "metadata": {
        "tags": [],
        "id": "m63FUCahKTVV"
      },
      "outputs": [],
      "source": [
        "df = df.dropDuplicates()\n"
      ]
    },
    {
      "cell_type": "markdown",
      "metadata": {
        "id": "g8oceZ-NKTVV"
      },
      "source": [
        "### Task 8 - Print the total number of rows in the dataset\n"
      ]
    },
    {
      "cell_type": "code",
      "execution_count": null,
      "metadata": {
        "tags": [],
        "id": "ryuTNqvOKTVV",
        "outputId": "067f6a82-ea06-4248-ce35-e321b5aea761"
      },
      "outputs": [
        {
          "name": "stderr",
          "output_type": "stream",
          "text": [
            "[Stage 6:===================================================>   (187 + 9) / 200]"
          ]
        },
        {
          "name": "stdout",
          "output_type": "stream",
          "text": [
            "1503\n"
          ]
        },
        {
          "name": "stderr",
          "output_type": "stream",
          "text": [
            "                                                                                \r"
          ]
        }
      ],
      "source": [
        "#your code goes here\n",
        "\n",
        "rowcount2 = df.count()\n",
        "print(rowcount2)\n"
      ]
    },
    {
      "cell_type": "markdown",
      "metadata": {
        "id": "RQo4EGGEKTVW"
      },
      "source": [
        "### Task 9 - Drop all the rows that contain null values from the dataset\n"
      ]
    },
    {
      "cell_type": "code",
      "execution_count": null,
      "metadata": {
        "tags": [],
        "id": "fwweKi5DKTVW"
      },
      "outputs": [],
      "source": [
        "df = df.dropna()\n"
      ]
    },
    {
      "cell_type": "markdown",
      "metadata": {
        "id": "H49dxvGnKTVW"
      },
      "source": [
        "### Task 10 - Print the total number of rows in the dataset\n"
      ]
    },
    {
      "cell_type": "code",
      "execution_count": null,
      "metadata": {
        "tags": [],
        "id": "SCc6j4TjKTVW",
        "outputId": "7232d990-a3a7-44b4-a2be-a337a0f55725"
      },
      "outputs": [
        {
          "name": "stderr",
          "output_type": "stream",
          "text": [
            "[Stage 9:=====================================================> (194 + 6) / 200]"
          ]
        },
        {
          "name": "stdout",
          "output_type": "stream",
          "text": [
            "1499\n"
          ]
        },
        {
          "name": "stderr",
          "output_type": "stream",
          "text": [
            "                                                                                \r"
          ]
        }
      ],
      "source": [
        "#your code goes here\n",
        "\n",
        "rowcount3 = df.count()\n",
        "print(rowcount3)\n"
      ]
    },
    {
      "cell_type": "markdown",
      "metadata": {
        "id": "umOIKDeYKTVX"
      },
      "source": [
        "### Task 11 - Rename the column \"SoundLevel\" to \"SoundLevelDecibels\"Drop\n"
      ]
    },
    {
      "cell_type": "code",
      "execution_count": null,
      "metadata": {
        "tags": [],
        "id": "VWwhm7tSKTVX",
        "outputId": "9954f973-2944-4d9e-f788-b72c56220d00"
      },
      "outputs": [
        {
          "name": "stdout",
          "output_type": "stream",
          "text": [
            "+---------+-------------+-----------+------------------+-----------------------+------------------+\n",
            "|Frequency|AngleOfAttack|ChordLength|FreeStreamVelocity|SuctionSideDisplacement|SoundLevelDecibels|\n",
            "+---------+-------------+-----------+------------------+-----------------------+------------------+\n",
            "|     4000|          3.0|     0.3048|              31.7|             0.00529514|           115.608|\n",
            "|     3150|          2.0|     0.2286|              31.7|             0.00372371|           121.527|\n",
            "|     2000|          7.3|     0.2286|              31.7|              0.0132672|           115.309|\n",
            "|     2000|          5.4|     0.1524|              71.3|             0.00401199|           131.111|\n",
            "|      500|          9.9|     0.1524|              71.3|              0.0193001|           131.279|\n",
            "+---------+-------------+-----------+------------------+-----------------------+------------------+\n",
            "only showing top 5 rows\n",
            "\n"
          ]
        },
        {
          "name": "stderr",
          "output_type": "stream",
          "text": [
            "                                                                                \r"
          ]
        }
      ],
      "source": [
        "# your code goes here\n",
        "\n",
        "df = df.withColumnRenamed(\"SoundLevel\" , \"SoundLevelDecibels\")\n",
        "df.show(5)"
      ]
    },
    {
      "cell_type": "markdown",
      "metadata": {
        "id": "DsYrm_RvKTVX"
      },
      "source": [
        "### Task 12 - Save the dataframe in parquet formant, name the file as \"NASA_airfoil_noise_cleaned.parquet\"\n"
      ]
    },
    {
      "cell_type": "code",
      "execution_count": null,
      "metadata": {
        "tags": [],
        "id": "WZSPd8ZoKTVX",
        "outputId": "8493e842-c941-45cc-8ec8-938cfab814fd"
      },
      "outputs": [
        {
          "name": "stderr",
          "output_type": "stream",
          "text": [
            "[Stage 18:>                                                       (0 + 8) / 200]23/12/21 17:52:56 WARN hadoop.MemoryManager: Total allocation exceeds 95.00% (906,992,014 bytes) of heap memory\n",
            "Scaling row group sizes to 96.54% for 7 writers\n",
            "23/12/21 17:52:56 WARN hadoop.MemoryManager: Total allocation exceeds 95.00% (906,992,014 bytes) of heap memory\n",
            "Scaling row group sizes to 84.47% for 8 writers\n",
            "23/12/21 17:52:56 WARN hadoop.MemoryManager: Total allocation exceeds 95.00% (906,992,014 bytes) of heap memory\n",
            "Scaling row group sizes to 96.54% for 7 writers\n",
            "                                                                                \r"
          ]
        }
      ],
      "source": [
        "# your code goes here\n",
        "\n",
        "df.write.mode('overwrite').parquet(\"NASA_airfoil_noise_cleaned.parquet\")"
      ]
    },
    {
      "cell_type": "markdown",
      "metadata": {
        "id": "Q6bb5XYCKTVX"
      },
      "source": [
        "#### Part 1 - Evaluation\n"
      ]
    },
    {
      "cell_type": "markdown",
      "metadata": {
        "id": "GJf5L4P2KTVX"
      },
      "source": [
        "\n",
        "Run the code cell below.<br>\n",
        "Use the answers here to answer the final evaluation quiz in the next section.<br>\n",
        "If the code throws up any errors, go back and review the code you have written.\n"
      ]
    },
    {
      "cell_type": "code",
      "execution_count": null,
      "metadata": {
        "tags": [],
        "id": "luTurxrRKTVX",
        "outputId": "b522dd8d-8135-4d73-b973-5e666c2c59b8"
      },
      "outputs": [
        {
          "name": "stdout",
          "output_type": "stream",
          "text": [
            "Part 1 - Evaluation\n",
            "Total rows =  1522\n",
            "Total rows after dropping duplicate rows =  1503\n",
            "Total rows after dropping duplicate rows and rows with null values =  1499\n",
            "New column name =  SoundLevelDecibels\n",
            "NASA_airfoil_noise_cleaned.parquet exists : True\n"
          ]
        }
      ],
      "source": [
        "print(\"Part 1 - Evaluation\")\n",
        "\n",
        "print(\"Total rows = \", rowcount1)\n",
        "print(\"Total rows after dropping duplicate rows = \", rowcount2)\n",
        "print(\"Total rows after dropping duplicate rows and rows with null values = \", rowcount3)\n",
        "print(\"New column name = \", df.columns[-1])\n",
        "\n",
        "import os\n",
        "\n",
        "print(\"NASA_airfoil_noise_cleaned.parquet exists :\", os.path.isdir(\"NASA_airfoil_noise_cleaned.parquet\"))"
      ]
    },
    {
      "cell_type": "markdown",
      "metadata": {
        "id": "nmEsitY5KTVY"
      },
      "source": [
        "## Part - 2 Create a  Machine Learning Pipeline\n"
      ]
    },
    {
      "cell_type": "markdown",
      "metadata": {
        "id": "qwQ7fCT0KTVY"
      },
      "source": [
        "### Task 1 - Load data from \"NASA_airfoil_noise_cleaned.parquet\" into a dataframe\n"
      ]
    },
    {
      "cell_type": "code",
      "execution_count": null,
      "metadata": {
        "tags": [],
        "id": "4Wko27brKTVY",
        "outputId": "c50fe6d4-f1c5-4f73-9a6b-6986cd3e4ed2"
      },
      "outputs": [
        {
          "name": "stdout",
          "output_type": "stream",
          "text": [
            "+---------+-------------+-----------+------------------+-----------------------+------------------+\n",
            "|Frequency|AngleOfAttack|ChordLength|FreeStreamVelocity|SuctionSideDisplacement|SoundLevelDecibels|\n",
            "+---------+-------------+-----------+------------------+-----------------------+------------------+\n",
            "|      630|          0.0|     0.3048|              31.7|             0.00331266|           129.095|\n",
            "|     4000|          0.0|     0.3048|              31.7|             0.00331266|           118.145|\n",
            "|     4000|          1.5|     0.3048|              39.6|             0.00392107|           117.741|\n",
            "|      800|          4.0|     0.3048|              71.3|             0.00497773|           131.755|\n",
            "|     1250|          0.0|     0.2286|              31.7|              0.0027238|           128.805|\n",
            "+---------+-------------+-----------+------------------+-----------------------+------------------+\n",
            "only showing top 5 rows\n",
            "\n"
          ]
        }
      ],
      "source": [
        "#your code goes here\n",
        "\n",
        "df = spark.read.parquet(\"NASA_airfoil_noise_cleaned.parquet\")\n",
        "df.show(5)"
      ]
    },
    {
      "cell_type": "markdown",
      "metadata": {
        "id": "sngDrb3rKTVY"
      },
      "source": [
        "### Task 2 - Print the total number of rows in the dataset\n"
      ]
    },
    {
      "cell_type": "code",
      "execution_count": null,
      "metadata": {
        "tags": [],
        "id": "raJKAJ5pKTVY",
        "outputId": "a345e60f-1ccd-4d01-821e-5a272c3cf613"
      },
      "outputs": [
        {
          "name": "stderr",
          "output_type": "stream",
          "text": [
            "[Stage 21:====================================>                     (5 + 3) / 8]"
          ]
        },
        {
          "name": "stdout",
          "output_type": "stream",
          "text": [
            "1499\n"
          ]
        },
        {
          "name": "stderr",
          "output_type": "stream",
          "text": [
            "                                                                                \r"
          ]
        }
      ],
      "source": [
        "#your code goes here\n",
        "\n",
        "rowcount4 = df.count()\n",
        "print(rowcount4)\n",
        "\n"
      ]
    },
    {
      "cell_type": "markdown",
      "metadata": {
        "id": "hp28wVXCKTVY"
      },
      "source": [
        "### Task 3 - Define the VectorAssembler pipeline stage\n"
      ]
    },
    {
      "cell_type": "markdown",
      "metadata": {
        "id": "Uj2_ZJpwKTVY"
      },
      "source": [
        "Stage 1 - Assemble the input columns into a single column \"features\". Use all the columns except SoundLevelDecibels as input features.\n"
      ]
    },
    {
      "cell_type": "code",
      "execution_count": null,
      "metadata": {
        "tags": [],
        "id": "dd_PbOIrKTVY"
      },
      "outputs": [],
      "source": [
        "#your code goes here\n",
        "# Define the input columns excluding \"SoundLevelDecibels\"\n",
        "input_columns = [col for col in df.columns if col != 'SoundLevelDecibels']\n",
        "\n",
        "assembler = VectorAssembler(inputCols=input_columns , outputCol='features')\n",
        "\n"
      ]
    },
    {
      "cell_type": "markdown",
      "metadata": {
        "id": "XblzoNjEKTVZ"
      },
      "source": [
        "### Task 4 - Define the StandardScaler pipeline stage\n"
      ]
    },
    {
      "cell_type": "markdown",
      "metadata": {
        "id": "o6zvM1AtKTVZ"
      },
      "source": [
        "Stage 2 - Scale the \"features\" using standard scaler and store in \"scaledFeatures\" column\n"
      ]
    },
    {
      "cell_type": "code",
      "execution_count": null,
      "metadata": {
        "tags": [],
        "id": "hvGr-K4gKTVZ"
      },
      "outputs": [],
      "source": [
        "#your code goes here\n",
        "\n",
        "scaler =StandardScaler(inputCol= 'features', outputCol='scaledFeatures')\n"
      ]
    },
    {
      "cell_type": "markdown",
      "metadata": {
        "id": "Idqdc07tKTVZ"
      },
      "source": [
        "### Task 5 - Define the StandardScaler pipeline stage\n"
      ]
    },
    {
      "cell_type": "markdown",
      "metadata": {
        "id": "UaCpHrYkKTVZ"
      },
      "source": [
        "Stage 3 - Create a LinearRegression stage to predict \"SoundLevelDecibels\"\n",
        "\n",
        "**Note:You need to use the scaledfeatures retreived in the previous step.**\n"
      ]
    },
    {
      "cell_type": "code",
      "execution_count": null,
      "metadata": {
        "tags": [],
        "id": "HBNPLaGuKTVZ"
      },
      "outputs": [],
      "source": [
        "#your code goes here\n",
        "\n",
        "lr = LinearRegression(labelCol=\"SoundLevelDecibels\", featuresCol='scaledFeatures')\n"
      ]
    },
    {
      "cell_type": "markdown",
      "metadata": {
        "id": "cMgBKluoKTVZ"
      },
      "source": [
        "### Task 6 - Build the pipeline\n"
      ]
    },
    {
      "cell_type": "markdown",
      "metadata": {
        "id": "7mV2dP3iKTVZ"
      },
      "source": [
        "Build a pipeline using the above three stages\n"
      ]
    },
    {
      "cell_type": "code",
      "execution_count": null,
      "metadata": {
        "tags": [],
        "id": "AUcp0havKTVZ"
      },
      "outputs": [],
      "source": [
        "#your code goes here\n",
        "from pyspark.ml import Pipeline ,PipelineModel\n",
        "pipeline = Pipeline(stages=[assembler, scaler, lr])\n"
      ]
    },
    {
      "cell_type": "markdown",
      "metadata": {
        "id": "8th6GSGcKTVZ"
      },
      "source": [
        "### Task 7 - Split the data\n"
      ]
    },
    {
      "cell_type": "code",
      "execution_count": null,
      "metadata": {
        "tags": [],
        "id": "7ml2WE07KTVa"
      },
      "outputs": [],
      "source": [
        "# Split the data into training and testing sets with 70:30 split.\n",
        "# set the value of seed to 42\n",
        "# the above step is very important. DO NOT set the value of seed to any other value other than 42.\n",
        "\n",
        "#your code goes here\n",
        "\n",
        "(trainingData, testingData) = df.randomSplit([0.7,0.3],seed=42)\n",
        "\n"
      ]
    },
    {
      "cell_type": "markdown",
      "metadata": {
        "id": "vQMVO6twKTVa"
      },
      "source": [
        "### Task 8 - Fit the pipeline\n"
      ]
    },
    {
      "cell_type": "code",
      "execution_count": null,
      "metadata": {
        "tags": [],
        "id": "jGFh200kKTVa",
        "outputId": "155c6f5a-fc3f-4c9d-848f-ae2aad49fc29"
      },
      "outputs": [
        {
          "name": "stderr",
          "output_type": "stream",
          "text": [
            "23/12/21 18:01:01 WARN util.Instrumentation: [0335a8fa] regParam is zero, which might cause numerical instability and overfitting.\n",
            "[Stage 26:>                                                         (0 + 8) / 8]23/12/21 18:01:04 WARN netlib.BLAS: Failed to load implementation from: com.github.fommil.netlib.NativeSystemBLAS\n",
            "23/12/21 18:01:04 WARN netlib.BLAS: Failed to load implementation from: com.github.fommil.netlib.NativeRefBLAS\n",
            "23/12/21 18:01:04 WARN netlib.LAPACK: Failed to load implementation from: com.github.fommil.netlib.NativeSystemLAPACK\n",
            "23/12/21 18:01:04 WARN netlib.LAPACK: Failed to load implementation from: com.github.fommil.netlib.NativeRefLAPACK\n",
            "                                                                                \r"
          ]
        }
      ],
      "source": [
        "# Fit the pipeline using the training data\n",
        "# your code goes here\n",
        "\n",
        "pipelineModel = pipeline.fit(trainingData)\n"
      ]
    },
    {
      "cell_type": "markdown",
      "metadata": {
        "id": "vfT8api9KTVa"
      },
      "source": [
        "#### Part 2 - Evaluation\n"
      ]
    },
    {
      "cell_type": "markdown",
      "metadata": {
        "id": "lfFWR0DxKTVa"
      },
      "source": [
        "\n",
        "Run the code cell below.<br>\n",
        "Use the answers here to answer the final evaluation quiz in the next section.<br>\n",
        "If the code throws up any errors, go back and review the code you have written.\n"
      ]
    },
    {
      "cell_type": "code",
      "execution_count": null,
      "metadata": {
        "tags": [],
        "id": "ZB-8S0k7KTVa",
        "outputId": "6823c816-c868-45ae-95a9-1fd4210334ef"
      },
      "outputs": [
        {
          "name": "stdout",
          "output_type": "stream",
          "text": [
            "Part 2 - Evaluation\n",
            "Total rows =  1499\n",
            "Pipeline Stage 1 =  VectorAssembler\n",
            "Pipeline Stage 2 =  StandardScaler\n",
            "Pipeline Stage 3 =  LinearRegression\n",
            "Label column =  SoundLevelDecibels\n"
          ]
        }
      ],
      "source": [
        "print(\"Part 2 - Evaluation\")\n",
        "print(\"Total rows = \", rowcount4)\n",
        "ps = [str(x).split(\"_\")[0] for x in pipeline.getStages()]\n",
        "\n",
        "print(\"Pipeline Stage 1 = \", ps[0])\n",
        "print(\"Pipeline Stage 2 = \", ps[1])\n",
        "print(\"Pipeline Stage 3 = \", ps[2])\n",
        "\n",
        "print(\"Label column = \", lr.getLabelCol())"
      ]
    },
    {
      "cell_type": "markdown",
      "metadata": {
        "id": "ZB0TZETjKTVa"
      },
      "source": [
        "## Part 3 - Evaluate the Model\n"
      ]
    },
    {
      "cell_type": "markdown",
      "metadata": {
        "id": "pNtnlPf3KTVa"
      },
      "source": [
        "### Task 1 - Predict using the model\n"
      ]
    },
    {
      "cell_type": "code",
      "execution_count": null,
      "metadata": {
        "tags": [],
        "id": "NHZm2XDAKTVb"
      },
      "outputs": [],
      "source": [
        "# Make predictions on testing data\n",
        "# your code goes here\n",
        "\n",
        "predictions =pipelineModel.transform(testingData)\n"
      ]
    },
    {
      "cell_type": "markdown",
      "metadata": {
        "id": "RXa9pBd7KTVb"
      },
      "source": [
        "### Task 2 - Print the evaluation metrics\n"
      ]
    },
    {
      "cell_type": "code",
      "execution_count": null,
      "metadata": {
        "tags": [],
        "id": "JouEGHw0KTVb",
        "outputId": "d75b4311-e30b-4b8c-f589-ef4bdaa05681"
      },
      "outputs": [
        {
          "name": "stderr",
          "output_type": "stream",
          "text": [
            "                                                                                \r"
          ]
        },
        {
          "name": "stdout",
          "output_type": "stream",
          "text": [
            "Mae: 3.73\n"
          ]
        },
        {
          "name": "stderr",
          "output_type": "stream",
          "text": [
            "                                                                                \r"
          ]
        },
        {
          "name": "stdout",
          "output_type": "stream",
          "text": [
            "Rmse: 4.75\n"
          ]
        },
        {
          "name": "stderr",
          "output_type": "stream",
          "text": [
            "                                                                                \r"
          ]
        },
        {
          "name": "stdout",
          "output_type": "stream",
          "text": [
            "Mse: 22.59\n"
          ]
        },
        {
          "name": "stderr",
          "output_type": "stream",
          "text": [
            "[Stage 45:>                                                         (0 + 8) / 8]"
          ]
        },
        {
          "name": "stdout",
          "output_type": "stream",
          "text": [
            "R2: 0.54\n"
          ]
        },
        {
          "name": "stderr",
          "output_type": "stream",
          "text": [
            "                                                                                \r"
          ]
        }
      ],
      "source": [
        "#your code goes here\n",
        "# Define the list of metrics\n",
        "metrics_list = ['mae','rmse', 'mse', 'r2']\n",
        "\n",
        "# Iterate over the metrics and evaluate the model\n",
        "for metric_name in metrics_list:\n",
        "    evaluator = RegressionEvaluator(labelCol='SoundLevelDecibels', predictionCol='prediction', metricName=metric_name)\n",
        "    metric_value = evaluator.evaluate(predictions)\n",
        "    print(f\"{metric_name.capitalize()}: {round(metric_value,2)}\")\n"
      ]
    },
    {
      "cell_type": "markdown",
      "metadata": {
        "id": "6TYdFUCYKTVb"
      },
      "source": [
        "#### Part 3 - Evaluation\n"
      ]
    },
    {
      "cell_type": "markdown",
      "metadata": {
        "id": "n54H9TLHKTVc"
      },
      "source": [
        "\n",
        "Run the code cell below.<br>\n",
        "Use the answers here to answer the final evaluation quiz in the next section.<br>\n",
        "If the code throws up any errors, go back and review the code you have written.\n"
      ]
    },
    {
      "cell_type": "code",
      "execution_count": null,
      "metadata": {
        "tags": [],
        "id": "Pre9vb7AKTVc",
        "outputId": "7beea203-dadb-4cdb-a7e1-f616079fa8c5"
      },
      "outputs": [
        {
          "name": "stdout",
          "output_type": "stream",
          "text": [
            "Part 3 - Evaluation\n",
            "Intercept =  132.6\n"
          ]
        }
      ],
      "source": [
        "print(\"Part 3 - Evaluation\")\n",
        "\n",
        "\n",
        "\n",
        "lrModel = pipelineModel.stages[-1]\n",
        "\n",
        "print(\"Intercept = \", round(lrModel.intercept,2))\n"
      ]
    },
    {
      "cell_type": "markdown",
      "metadata": {
        "id": "EcdYFyyKKTVc"
      },
      "source": [
        "## Part 4 - Persist the Model\n"
      ]
    },
    {
      "cell_type": "markdown",
      "metadata": {
        "id": "Spc2xKGUKTVc"
      },
      "source": [
        "### Task 1 - Save the model to the path \"Final_Project\"\n"
      ]
    },
    {
      "cell_type": "code",
      "execution_count": null,
      "metadata": {
        "tags": [],
        "id": "D6O1Lv-BKTVc",
        "outputId": "792d41e8-be7f-4421-a8e9-e560333f261b"
      },
      "outputs": [
        {
          "name": "stderr",
          "output_type": "stream",
          "text": [
            "                                                                                \r"
          ]
        }
      ],
      "source": [
        "# Save the pipeline model as \"Final_Project\"\n",
        "# your code goes here\n",
        "pipelineModel.write().overwrite().save(\"Final_Project\")"
      ]
    },
    {
      "cell_type": "markdown",
      "metadata": {
        "id": "MBSnJHxRKTVe"
      },
      "source": [
        "### Task 2 - Load the model from the path \"Final_Project\"\n"
      ]
    },
    {
      "cell_type": "code",
      "execution_count": null,
      "metadata": {
        "tags": [],
        "id": "RBKbuYxtKTVf"
      },
      "outputs": [],
      "source": [
        "# Load the pipeline model you have created in the previous step\n",
        "loadedPipelineModel = PipelineModel.load(\"Final_Project\")\n"
      ]
    },
    {
      "cell_type": "markdown",
      "metadata": {
        "id": "9vUHaTM_KTVf"
      },
      "source": [
        "### Task 3 - Make predictions using the loaded model on the testdata\n"
      ]
    },
    {
      "cell_type": "code",
      "execution_count": null,
      "metadata": {
        "tags": [],
        "id": "Q77xmDyXKTVf"
      },
      "outputs": [],
      "source": [
        "# Use the loaded pipeline model and make predictions using testingData\n",
        "predictions = loadedPipelineModel.transform(testingData)\n"
      ]
    },
    {
      "cell_type": "markdown",
      "metadata": {
        "id": "0JkV4EbeKTVf"
      },
      "source": [
        "### Task 4 - Show the predictions\n"
      ]
    },
    {
      "cell_type": "code",
      "execution_count": null,
      "metadata": {
        "tags": [],
        "id": "EIROddkaKTVf",
        "outputId": "5f31ab9f-5510-4031-8227-32af4edbefd9"
      },
      "outputs": [
        {
          "name": "stderr",
          "output_type": "stream",
          "text": [
            "[Stage 67:>                                                         (0 + 1) / 1]"
          ]
        },
        {
          "name": "stdout",
          "output_type": "stream",
          "text": [
            "+------------------+------------------+\n",
            "|SoundLevelDecibels|        prediction|\n",
            "+------------------+------------------+\n",
            "|           127.315|123.64344009624753|\n",
            "|           119.975|123.48695788614877|\n",
            "|           121.783|124.38983849684254|\n",
            "|           127.224|121.44706993294302|\n",
            "|           122.229|125.68312652454188|\n",
            "+------------------+------------------+\n",
            "only showing top 5 rows\n",
            "\n"
          ]
        },
        {
          "name": "stderr",
          "output_type": "stream",
          "text": [
            "                                                                                \r"
          ]
        }
      ],
      "source": [
        "#show top 5 rows from the predections dataframe. Display only the label column and predictions\n",
        "#your code goes here\n",
        "predictions.select('SoundLevelDecibels','prediction').show(5)"
      ]
    },
    {
      "cell_type": "markdown",
      "metadata": {
        "id": "4iUMrTu-KTVf"
      },
      "source": [
        "#### Part 4 - Evaluation\n"
      ]
    },
    {
      "cell_type": "markdown",
      "metadata": {
        "id": "QlUk-GN_KTVf"
      },
      "source": [
        "\n",
        "Run the code cell below.<br>\n",
        "Use the answers here to answer the final evaluation quiz in the next section.<br>\n",
        "If the code throws up any errors, go back and review the code you have written.\n"
      ]
    },
    {
      "cell_type": "code",
      "execution_count": null,
      "metadata": {
        "tags": [],
        "id": "GHkA6hf7KTVf",
        "outputId": "de1fe3b4-e12e-4c24-ca8b-763da6e1471d"
      },
      "outputs": [
        {
          "name": "stdout",
          "output_type": "stream",
          "text": [
            "Part 4 - Evaluation\n",
            "Number of stages in the pipeline =  3\n",
            "Coefficient for Frequency is -3.9728\n",
            "Coefficient for AngleOfAttack is -2.4775\n",
            "Coefficient for ChordLength is -3.3818\n",
            "Coefficient for FreeStreamVelocity is 1.5789\n",
            "Coefficient for SuctionSideDisplacement is -1.6465\n"
          ]
        }
      ],
      "source": [
        "print(\"Part 4 - Evaluation\")\n",
        "\n",
        "loadedmodel = loadedPipelineModel.stages[-1]\n",
        "totalstages = len(loadedPipelineModel.stages)\n",
        "inputcolumns = loadedPipelineModel.stages[0].getInputCols()\n",
        "\n",
        "print(\"Number of stages in the pipeline = \", totalstages)\n",
        "for i,j in zip(inputcolumns, loadedmodel.coefficients):\n",
        "    print(f\"Coefficient for {i} is {round(j,4)}\")"
      ]
    },
    {
      "cell_type": "markdown",
      "metadata": {
        "id": "yiIWH9aIKTVf"
      },
      "source": [
        "### Stop Spark Session\n"
      ]
    },
    {
      "cell_type": "code",
      "execution_count": null,
      "metadata": {
        "tags": [],
        "id": "ewSoCtEuKTVg"
      },
      "outputs": [],
      "source": [
        "spark.stop()"
      ]
    },
    {
      "cell_type": "markdown",
      "metadata": {
        "id": "V5rSF2TEKTVg"
      },
      "source": [
        "\n"
      ]
    }
  ],
  "metadata": {
    "kernelspec": {
      "display_name": "Python",
      "language": "python",
      "name": "conda-env-python-py"
    },
    "language_info": {
      "codemirror_mode": {
        "name": "ipython",
        "version": 3
      },
      "file_extension": ".py",
      "mimetype": "text/x-python",
      "name": "python",
      "nbconvert_exporter": "python",
      "pygments_lexer": "ipython3",
      "version": "3.7.12"
    },
    "colab": {
      "provenance": []
    }
  },
  "nbformat": 4,
  "nbformat_minor": 0
}